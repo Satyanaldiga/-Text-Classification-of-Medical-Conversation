{
  "nbformat": 4,
  "nbformat_minor": 0,
  "metadata": {
    "colab": {
      "provenance": []
    },
    "kernelspec": {
      "name": "python3",
      "display_name": "Python 3"
    },
    "language_info": {
      "name": "python"
    }
  },
  "cells": [
    {
      "cell_type": "code",
      "source": [
        "# BASIC LIBRARIES\n",
        "import pandas as pd\n",
        "import numpy as np\n",
        "import matplotlib.pyplot as plt\n",
        "\n",
        "# TEXT PREPROCESSING\n",
        "from sklearn.feature_extraction.text import TfidfVectorizer\n",
        "\n",
        "# MODELING\n",
        "from sklearn.model_selection import train_test_split\n",
        "from sklearn.linear_model import LogisticRegression\n",
        "from sklearn.svm import SVC\n",
        "\n",
        "# EVALUATION\n",
        "from sklearn.metrics import accuracy_score\n"
      ],
      "metadata": {
        "id": "l5pyDpYSJotD"
      },
      "execution_count": null,
      "outputs": []
    },
    {
      "cell_type": "code",
      "source": [
        "# LOAD TRAINING DATA\n",
        "train_val_df = pd.read_excel('/content/INFO 617 Group Project Train Val.xlsx')  # path inside Colab\n",
        "print(train_val_df.head())\n",
        "\n",
        "# Check column names\n",
        "print(train_val_df.columns)\n"
      ],
      "metadata": {
        "colab": {
          "base_uri": "https://localhost:8080/"
        },
        "id": "EB47_vklKFRD",
        "outputId": "b1f0777a-f7b4-4b75-ae00-bc018d54e6a6"
      },
      "execution_count": null,
      "outputs": [
        {
          "output_type": "stream",
          "name": "stdout",
          "text": [
            "                                            Sentence      Label\n",
            "0                                             Hello,      GREET\n",
            "1   the rubella virus IgM was detected at around ...     REPEAT\n",
            "2  which has a 50% chance of causing intrauterine...  DIAGNOISE\n",
            "3  Intrauterine infection can lead to risks such ...    EXPLAIN\n",
            "4  Please note that these risks may or may not oc...    EXPLAIN\n",
            "Index(['Sentence', 'Label'], dtype='object')\n"
          ]
        }
      ]
    },
    {
      "cell_type": "code",
      "source": [
        "# Assuming your columns are named 'Sentence' and 'Label'\n",
        "texts = train_val_df['Sentence'].astype(str).tolist() # Changed 'Text' to 'Sentence'\n",
        "labels = train_val_df['Label'].tolist()\n",
        "\n"
      ],
      "metadata": {
        "id": "Wr4iKUiwKHP7"
      },
      "execution_count": null,
      "outputs": []
    },
    {
      "cell_type": "code",
      "source": [
        "# ======================================\n",
        "# EDA\n",
        "# ======================================\n",
        "\n",
        "print(\"Checking missing values...\")\n",
        "print(f\"Missing texts: {np.sum(pd.Series(texts).isnull())}\")\n",
        "print(f\"Missing labels: {np.sum(pd.Series(labels).isnull())}\")\n",
        "\n",
        "print(\"\\nLabel distribution:\")\n",
        "label_counts = pd.Series(labels).value_counts()\n",
        "print(label_counts)\n",
        "\n",
        "plt.figure(figsize=(10,6))\n",
        "label_counts.plot(kind='bar')\n",
        "plt.title(\"Label Distribution\")\n",
        "plt.xlabel(\"Labels\")\n",
        "plt.ylabel(\"Count\")\n",
        "plt.show()\n",
        "\n",
        "# Text lengths\n",
        "text_lengths = [len(text.split()) for text in texts]\n",
        "print(f\"\\nAverage text length (words): {np.mean(text_lengths):.2f}\")\n",
        "print(f\"Min text length: {np.min(text_lengths)}\")\n",
        "print(f\"Max text length: {np.max(text_lengths)}\")\n",
        "\n",
        "plt.figure(figsize=(10,6))\n",
        "plt.hist(text_lengths, bins=50)\n",
        "plt.title(\"Text Length Distribution\")\n",
        "plt.xlabel(\"Number of Words\")\n",
        "plt.ylabel(\"Number of Texts\")\n",
        "plt.show()\n",
        "\n",
        "# Lowercase and strip spaces\n",
        "texts = [text.lower().strip() for text in texts]\n"
      ],
      "metadata": {
        "colab": {
          "base_uri": "https://localhost:8080/",
          "height": 1000
        },
        "id": "vYS5Y3CeKfca",
        "outputId": "c7819492-f026-4c3e-a1b5-f0b731d0fdaf"
      },
      "execution_count": null,
      "outputs": [
        {
          "output_type": "stream",
          "name": "stdout",
          "text": [
            "Checking missing values...\n",
            "Missing texts: 0\n",
            "Missing labels: 0\n",
            "\n",
            "Label distribution:\n",
            "TREAT                  1188\n",
            "EXPLAIN                1061\n",
            "DIAGNOISE               381\n",
            "QUES                    267\n",
            "REFERRAL                222\n",
            "THANK                   145\n",
            "WAIT                    139\n",
            "GREET                   120\n",
            "RECEIVE                 110\n",
            "REPEAT                   86\n",
            "CONSOLE                  78\n",
            "REMIND                   78\n",
            "WISH                     64\n",
            "REQUEST_INFORMATION      55\n",
            "FUTURE_SUPPORT           36\n",
            "Name: count, dtype: int64\n"
          ]
        },
        {
          "output_type": "display_data",
          "data": {
            "text/plain": [
              "<Figure size 1000x600 with 1 Axes>"
            ],
            "image/png": "[encoded data removed]"
          },
          "metadata": {}
        },
        {
          "output_type": "stream",
          "name": "stdout",
          "text": [
            "\n",
            "Average text length (words): 15.06\n",
            "Min text length: 1\n",
            "Max text length: 109\n"
          ]
        },
        {
          "output_type": "display_data",
          "data": {
            "text/plain": [
              "<Figure size 1000x600 with 1 Axes>"
            ],
            "image/png": "[encoded data removed]"
          },
          "metadata": {}
        }
      ]
    },
    {
      "cell_type": "code",
      "source": [
        "X_train, X_val, y_train, y_val = train_test_split(\n",
        "    texts, labels, test_size=0.1, random_state=42, stratify=labels  # stratify to balance classes\n",
        ")\n"
      ],
      "metadata": {
        "id": "ov5c90o6KqgS"
      },
      "execution_count": null,
      "outputs": []
    },
    {
      "cell_type": "code",
      "source": [
        "tfidf_vectorizer = TfidfVectorizer(max_features=5000)\n",
        "X_train_tfidf = tfidf_vectorizer.fit_transform(X_train)\n",
        "X_val_tfidf = tfidf_vectorizer.transform(X_val)\n"
      ],
      "metadata": {
        "id": "5TKwZctBKspr"
      },
      "execution_count": null,
      "outputs": []
    },
    {
      "cell_type": "code",
      "source": [
        "log_reg = LogisticRegression(max_iter=1000)\n",
        "log_reg.fit(X_train_tfidf, y_train)\n",
        "\n",
        "y_pred_logreg = log_reg.predict(X_val_tfidf)\n",
        "logreg_acc = accuracy_score(y_val, y_pred_logreg)\n",
        "\n",
        "print(f\"Logistic Regression Validation Accuracy: {logreg_acc*100:.2f}%\")\n"
      ],
      "metadata": {
        "colab": {
          "base_uri": "https://localhost:8080/"
        },
        "id": "CdY0CDvsKuWq",
        "outputId": "c3439791-9138-4de7-fea0-72ed8d24be96"
      },
      "execution_count": null,
      "outputs": [
        {
          "output_type": "stream",
          "name": "stdout",
          "text": [
            "Logistic Regression Validation Accuracy: 69.48%\n"
          ]
        }
      ]
    },
    {
      "cell_type": "code",
      "source": [
        "svm_model = SVC(kernel='linear', C=1.0)\n",
        "svm_model.fit(X_train_tfidf, y_train)\n",
        "\n",
        "y_pred_svm = svm_model.predict(X_val_tfidf)\n",
        "svm_acc = accuracy_score(y_val, y_pred_svm)\n",
        "\n",
        "print(f\"SVM Validation Accuracy: {svm_acc*100:.2f}%\")\n"
      ],
      "metadata": {
        "colab": {
          "base_uri": "https://localhost:8080/"
        },
        "id": "fcOgBDb5KwWC",
        "outputId": "8534f2d0-08fd-401e-f91a-6fbceefab6f4"
      },
      "execution_count": null,
      "outputs": [
        {
          "output_type": "stream",
          "name": "stdout",
          "text": [
            "SVM Validation Accuracy: 72.95%\n"
          ]
        }
      ]
    },
    {
      "cell_type": "code",
      "source": [
        "# Train Logistic Regression\n",
        "log_reg = LogisticRegression(max_iter=1000)\n",
        "log_reg.fit(X_train_tfidf, y_train)\n",
        "\n",
        "# Predict on Train and Validation\n",
        "y_pred_train_logreg = log_reg.predict(X_train_tfidf)\n",
        "y_pred_val_logreg = log_reg.predict(X_val_tfidf)\n",
        "\n",
        "# Accuracy\n",
        "logreg_train_acc = accuracy_score(y_train, y_pred_train_logreg)\n",
        "logreg_val_acc = accuracy_score(y_val, y_pred_val_logreg)\n",
        "\n",
        "print(f\"Logistic Regression Training Accuracy: {logreg_train_acc*100:.2f}%\")\n",
        "print(f\"Logistic Regression Validation Accuracy: {logreg_val_acc*100:.2f}%\")\n"
      ],
      "metadata": {
        "colab": {
          "base_uri": "https://localhost:8080/"
        },
        "id": "cXeOyGd4KzWi",
        "outputId": "7222d44b-915a-456f-e4ab-ec28462fc44c"
      },
      "execution_count": null,
      "outputs": [
        {
          "output_type": "stream",
          "name": "stdout",
          "text": [
            "Logistic Regression Training Accuracy: 82.41%\n",
            "Logistic Regression Validation Accuracy: 69.48%\n"
          ]
        }
      ]
    },
    {
      "cell_type": "code",
      "source": [
        "# LOAD TEST DATA\n",
        "test_df = pd.read_excel('/content/INFO 617_Group Project Test Set.xlsx')  # path inside Colab\n",
        "\n",
        "# Check column names\n",
        "print(test_df.columns)\n",
        "\n",
        "# Assuming test_df also has 'Sentence' and 'Label' columns, changed 'Text' to 'Sentence'\n",
        "test_texts = test_df['Sentence'].astype(str).tolist() # Changed 'Text' to 'Sentence' to match the DataFrame column name\n",
        "test_labels = test_df['Label'].tolist()\n"
      ],
      "metadata": {
        "colab": {
          "base_uri": "https://localhost:8080/"
        },
        "id": "bMxUetGqLbNz",
        "outputId": "139d0aed-5765-40ea-e439-a771ab7026cf"
      },
      "execution_count": null,
      "outputs": [
        {
          "output_type": "stream",
          "name": "stdout",
          "text": [
            "Index(['Sentence', 'Label'], dtype='object')\n"
          ]
        }
      ]
    },
    {
      "cell_type": "code",
      "source": [
        "# Lowercase and strip test texts\n",
        "test_texts = [text.lower().strip() for text in test_texts]\n",
        "\n",
        "# Transform using same TF-IDF Vectorizer\n",
        "X_test_tfidf = tfidf_vectorizer.transform(test_texts)\n"
      ],
      "metadata": {
        "id": "hX7M1wJELjIz"
      },
      "execution_count": null,
      "outputs": []
    },
    {
      "cell_type": "code",
      "source": [
        "# Predict on Test Set (Logistic Regression)\n",
        "y_pred_test_logreg = log_reg.predict(X_test_tfidf)\n",
        "logreg_test_acc = accuracy_score(test_labels, y_pred_test_logreg)\n",
        "\n",
        "print(f\"Logistic Regression Test Accuracy: {logreg_test_acc*100:.2f}%\")\n"
      ],
      "metadata": {
        "colab": {
          "base_uri": "https://localhost:8080/"
        },
        "id": "78EFuZtjL6Oz",
        "outputId": "4453a2f2-7763-43cd-a0dd-d4e1b013765b"
      },
      "execution_count": null,
      "outputs": [
        {
          "output_type": "stream",
          "name": "stdout",
          "text": [
            "Logistic Regression Test Accuracy: 67.65%\n"
          ]
        }
      ]
    },
    {
      "cell_type": "code",
      "source": [
        "# Predict on Test Set (SVM)\n",
        "y_pred_test_svm = svm_model.predict(X_test_tfidf)\n",
        "svm_test_acc = accuracy_score(test_labels, y_pred_test_svm)\n",
        "\n",
        "print(f\"SVM Test Accuracy: {svm_test_acc*100:.2f}%\")\n"
      ],
      "metadata": {
        "colab": {
          "base_uri": "https://localhost:8080/"
        },
        "id": "rt-FM1uaL8ci",
        "outputId": "e4ec2092-9092-416d-a5fd-0e8836b11587"
      },
      "execution_count": null,
      "outputs": [
        {
          "output_type": "stream",
          "name": "stdout",
          "text": [
            "SVM Test Accuracy: 72.37%\n"
          ]
        }
      ]
    }
  ]
}